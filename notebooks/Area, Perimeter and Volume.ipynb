{
 "cells": [
  {
   "cell_type": "markdown",
   "metadata": {},
   "source": [
    "## Session 2: Area, Perimeter and Volume\n",
    "#### This session will expose students to simple geometry - area, perimeter and volume calculations. We will explore different shapes and use Python to do all the calculations. Additionally, this session will also introduce concepts of \"arguments\" and \"functions\", which can be used to make lot of calculations easy.\n",
    "\n",
    "<img src = \"images\\PYKIDSCLUB.jpg\">\n",
    "##### @ PyKidsClub 2018\n",
    "\n",
    "---"
   ]
  },
  {
   "cell_type": "code",
   "execution_count": 4,
   "metadata": {
    "collapsed": true
   },
   "outputs": [],
   "source": [
    "import pandas as pd\n",
    "import math as math\n",
    "import matplotlib.pyplot as plt\n",
    "from IPython.display import display, Math, Latex, Image, HTML\n",
    "import numpy as np\n",
    "import scipy as sp\n",
    "import sklearn\n",
    "\n",
    "import plotly.plotly as py\n",
    "from plotly.graph_objs import *\n",
    "%matplotlib inline   "
   ]
  },
  {
   "cell_type": "markdown",
   "metadata": {},
   "source": [
    "### Area of circle, square, rectangle and triangle\n",
    "\n",
    "Lets go over the basics first:\n",
    "* Perimeter: Refers to the line or boundary around a closed geometric shape. Usually Perimeter refers to the sum of all sides, e.g., of a rectangle. The units are in meters, inches, feet, etc\n",
    "* Area: refers to the measurement of the surface covered by a 2-dimensional geometric figure, e.g., area of a triangle. The units are in \"squared\" measurements as in meters^2 (meter * meter)\n",
    "\n",
    "\n",
    "\n",
    "<img src = \"https://i.pinimg.com/originals/4d/8d/95/4d8d95a5638b5a0ed3611a724f5b0f08.png\">\n"
   ]
  },
  {
   "cell_type": "markdown",
   "metadata": {},
   "source": [
    "#### Now lets start with the Python coding for calculating simple Area and Perimeter, starting with...\n",
    "\n",
    "### SQUARE"
   ]
  },
  {
   "cell_type": "code",
   "execution_count": 5,
   "metadata": {},
   "outputs": [
    {
     "name": "stdout",
     "output_type": "stream",
     "text": [
      "Perimeter of Square is:  8.0\n",
      "Area of Square is:  4.0\n"
     ]
    }
   ],
   "source": [
    "s = 2.0   ## length of the square (same as breadth)\n",
    "\n",
    "P_square = 4 * s\n",
    "A_square = s * s\n",
    "\n",
    "print(\"Perimeter of Square is: \", P_square)\n",
    "print(\"Area of Square is: \", A_square)"
   ]
  },
  {
   "cell_type": "markdown",
   "metadata": {},
   "source": [
    "### RECTANGLE"
   ]
  },
  {
   "cell_type": "code",
   "execution_count": 6,
   "metadata": {},
   "outputs": [
    {
     "name": "stdout",
     "output_type": "stream",
     "text": [
      "Perimeter of Rectangle is:  10.0\n",
      "Area of Rectangle is:  6.0\n"
     ]
    }
   ],
   "source": [
    "a = 2.0    ## length of rectangle\n",
    "b  = 3.0   ## breadth of rectangle\n",
    "\n",
    "P_rectangle = 2 * a + 2 * b\n",
    "A_rectangle = a * b\n",
    "\n",
    "print(\"Perimeter of Rectangle is: \", P_rectangle)\n",
    "print(\"Area of Rectangle is: \", A_rectangle)"
   ]
  },
  {
   "cell_type": "markdown",
   "metadata": {},
   "source": [
    "### CIRCLE"
   ]
  },
  {
   "cell_type": "code",
   "execution_count": 7,
   "metadata": {},
   "outputs": [
    {
     "name": "stdout",
     "output_type": "stream",
     "text": [
      "Perimeter or circumference of a Circle is:  31.42\n",
      "Area of Circle is:  78.54\n"
     ]
    }
   ],
   "source": [
    "r = 5.0  ## radius of circle\n",
    "\n",
    "P_circle = 2 * math.pi * r\n",
    "A_circle = math.pi * r * r\n",
    "\n",
    "print(\"Perimeter or circumference of a Circle is: \", round(P_circle,2))\n",
    "print(\"Area of Circle is: \", round(A_circle,2))"
   ]
  },
  {
   "cell_type": "markdown",
   "metadata": {},
   "source": [
    "### TRIANGLE"
   ]
  },
  {
   "cell_type": "code",
   "execution_count": 8,
   "metadata": {},
   "outputs": [
    {
     "name": "stdout",
     "output_type": "stream",
     "text": [
      "Area of Triangle is:  6.0\n"
     ]
    }
   ],
   "source": [
    "h = 3.0\n",
    "b = 4.0\n",
    "\n",
    "A_triangle = 1/2 * h * b\n",
    "\n",
    "print(\"Area of Triangle is: \", A_triangle)"
   ]
  },
  {
   "cell_type": "markdown",
   "metadata": {},
   "source": [
    "### Volume Calculations \n",
    "\n",
    "### SPHERE"
   ]
  },
  {
   "cell_type": "code",
   "execution_count": 9,
   "metadata": {},
   "outputs": [
    {
     "name": "stdout",
     "output_type": "stream",
     "text": [
      "Surface Area of a sphere is:  314.1592653589793\n",
      "Volume of a sphere is:  523.5987755982989\n"
     ]
    }
   ],
   "source": [
    "r = 5.0 ## radius of sphere\n",
    "\n",
    "S_sphere = 4 * math.pi * r * r\n",
    "V_sphere = 4/3 * math.pi * r * r * r\n",
    "\n",
    "print(\"Surface Area of a sphere is: \", S_sphere)\n",
    "print(\"Volume of a sphere is: \", V_sphere)"
   ]
  },
  {
   "cell_type": "markdown",
   "metadata": {},
   "source": [
    "### CUBE"
   ]
  },
  {
   "cell_type": "code",
   "execution_count": 10,
   "metadata": {},
   "outputs": [
    {
     "name": "stdout",
     "output_type": "stream",
     "text": [
      "Surface Area of a cube is:  2400.0\n",
      "Volume of a cube is: 8000.0\n"
     ]
    }
   ],
   "source": [
    "l = 20.0 ## length of a side\n",
    "\n",
    "S_cube = 6 * l * l\n",
    "V_cube = l * l * l\n",
    "\n",
    "print(\"Surface Area of a cube is: \", S_cube)\n",
    "print(\"Volume of a cube is:\", V_cube)\n"
   ]
  },
  {
   "cell_type": "markdown",
   "metadata": {},
   "source": [
    "### CYLINDER"
   ]
  },
  {
   "cell_type": "code",
   "execution_count": 11,
   "metadata": {},
   "outputs": [
    {
     "name": "stdout",
     "output_type": "stream",
     "text": [
      "Surface Area of a cylinder is:  188.49555921538757\n",
      "Volume of a cylinder is: 197.92033717615698\n"
     ]
    }
   ],
   "source": [
    "r = 3.0\n",
    "h = 7.0\n",
    "\n",
    "S_cylinder = 2 * math.pi * r * (r + h)\n",
    "V_cylinder = math.pi * r * r * h\n",
    "\n",
    "print(\"Surface Area of a cylinder is: \", S_cylinder)\n",
    "print(\"Volume of a cylinder is:\", V_cylinder)\n"
   ]
  },
  {
   "cell_type": "markdown",
   "metadata": {},
   "source": [
    "\n",
    "---\n",
    "### Now suppose, you want to calculate Area of square for many different type of lengths. Your teacher asks you to calculate the \n",
    "\n",
    "### Lets discuss what is a function. "
   ]
  },
  {
   "cell_type": "code",
   "execution_count": 1,
   "metadata": {
    "collapsed": true
   },
   "outputs": [],
   "source": [
    "def A_circle (r):\n",
    "    A = math.pi * r * r\n",
    "    return A"
   ]
  },
  {
   "cell_type": "code",
   "execution_count": 13,
   "metadata": {},
   "outputs": [
    {
     "name": "stdout",
     "output_type": "stream",
     "text": [
      "78.53981633974483\n",
      "28.274333882308138\n",
      "19.634954084936208\n",
      "153.93804002589985\n"
     ]
    }
   ],
   "source": [
    "print(A_circle(5.0))\n",
    "print(A_circle(3.0))\n",
    "print(A_circle(2.5))\n",
    "print(A_circle(7.0))\n"
   ]
  },
  {
   "cell_type": "code",
   "execution_count": null,
   "metadata": {
    "collapsed": true
   },
   "outputs": [],
   "source": []
  },
  {
   "cell_type": "code",
   "execution_count": null,
   "metadata": {
    "collapsed": true
   },
   "outputs": [],
   "source": []
  }
 ],
 "metadata": {
  "kernelspec": {
   "display_name": "Python 3",
   "language": "python",
   "name": "python3"
  },
  "language_info": {
   "codemirror_mode": {
    "name": "ipython",
    "version": 3
   },
   "file_extension": ".py",
   "mimetype": "text/x-python",
   "name": "python",
   "nbconvert_exporter": "python",
   "pygments_lexer": "ipython3",
   "version": "3.6.3"
  }
 },
 "nbformat": 4,
 "nbformat_minor": 2
}
